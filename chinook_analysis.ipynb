{
 "cells": [
  {
   "cell_type": "markdown",
   "metadata": {},
   "source": [
    "# Answering Business Questions Using SQL"
   ]
  },
  {
   "cell_type": "markdown",
   "metadata": {},
   "source": [
    "## 1. Introduction and Schema Diagram\n",
    "\n",
    "In this project, we're going to practice using our SQL skills to answer business questions.\n",
    "\n",
    "We'll use the Chinook database. The Chinook database is provided as a SQLite database file called **chinook.db**  \n",
    "A copy of the database schema is below.\n",
    "\n",
    "![title](chinook.png)"
   ]
  },
  {
   "cell_type": "markdown",
   "metadata": {},
   "source": [
    "We'll use the following code to connect our Jupyter Notebook to our database file:"
   ]
  },
  {
   "cell_type": "code",
   "execution_count": 2,
   "metadata": {},
   "outputs": [],
   "source": [
    "%%capture\n",
    "%load_ext sql\n",
    "%sql sqlite:///chinook.db"
   ]
  },
  {
   "cell_type": "markdown",
   "metadata": {},
   "source": [
    "## 2. Overview of the Data\n",
    "\n",
    "Let's start by getting familiar with our data. We can query the database to get a list of all tables and views in our database. \n",
    "\n",
    "To run SQL queries in Jupyter Notebook, we need to add '**%%sql**' to the start of our query. \n",
    "\n",
    "So, we'll use this code to view all tables and views in our db:"
   ]
  },
  {
   "cell_type": "code",
   "execution_count": 4,
   "metadata": {},
   "outputs": [
    {
     "name": "stdout",
     "output_type": "stream",
     "text": [
      " * sqlite:///chinook.db\n",
      "Done.\n"
     ]
    },
    {
     "data": {
      "text/html": [
       "<table>\n",
       "    <thead>\n",
       "        <tr>\n",
       "            <th>name</th>\n",
       "            <th>type</th>\n",
       "        </tr>\n",
       "    </thead>\n",
       "    <tbody>\n",
       "        <tr>\n",
       "            <td>album</td>\n",
       "            <td>table</td>\n",
       "        </tr>\n",
       "        <tr>\n",
       "            <td>artist</td>\n",
       "            <td>table</td>\n",
       "        </tr>\n",
       "        <tr>\n",
       "            <td>customer</td>\n",
       "            <td>table</td>\n",
       "        </tr>\n",
       "        <tr>\n",
       "            <td>employee</td>\n",
       "            <td>table</td>\n",
       "        </tr>\n",
       "        <tr>\n",
       "            <td>genre</td>\n",
       "            <td>table</td>\n",
       "        </tr>\n",
       "        <tr>\n",
       "            <td>invoice</td>\n",
       "            <td>table</td>\n",
       "        </tr>\n",
       "        <tr>\n",
       "            <td>invoice_line</td>\n",
       "            <td>table</td>\n",
       "        </tr>\n",
       "        <tr>\n",
       "            <td>media_type</td>\n",
       "            <td>table</td>\n",
       "        </tr>\n",
       "        <tr>\n",
       "            <td>playlist</td>\n",
       "            <td>table</td>\n",
       "        </tr>\n",
       "        <tr>\n",
       "            <td>playlist_track</td>\n",
       "            <td>table</td>\n",
       "        </tr>\n",
       "        <tr>\n",
       "            <td>track</td>\n",
       "            <td>table</td>\n",
       "        </tr>\n",
       "    </tbody>\n",
       "</table>"
      ],
      "text/plain": [
       "[('album', 'table'),\n",
       " ('artist', 'table'),\n",
       " ('customer', 'table'),\n",
       " ('employee', 'table'),\n",
       " ('genre', 'table'),\n",
       " ('invoice', 'table'),\n",
       " ('invoice_line', 'table'),\n",
       " ('media_type', 'table'),\n",
       " ('playlist', 'table'),\n",
       " ('playlist_track', 'table'),\n",
       " ('track', 'table')]"
      ]
     },
     "execution_count": 4,
     "metadata": {},
     "output_type": "execute_result"
    }
   ],
   "source": [
    "%%sql\n",
    "SELECT\n",
    "    name,\n",
    "    type\n",
    "FROM sqlite_master\n",
    "WHERE type IN (\"table\",\"view\");"
   ]
  },
  {
   "cell_type": "markdown",
   "metadata": {},
   "source": [
    "## 3. Analysis\n",
    "\n",
    "### 3.1. Selecting New Albums to Purchase\n",
    "\n",
    "The Chinook record store has just signed a deal with a new record label, and we've been tasked with selecting the first three albums that will be added to the store, from a list of four. All four albums are by artists that don't have any tracks in the store right now - we have the artist names, and the genre of music they produce:\n",
    "\n",
    "| Artist Name          | Genre   |\n",
    "|----------------------|---------|\n",
    "| Regal                | Hip-Hop |\n",
    "| Red Tone             | Punk    |\n",
    "| Meteor and the Girls | Pop     |\n",
    "| Slim Jim Bites       | Blues   |\n",
    "\n",
    "The record label specializes in artists from the USA, and they have given Chinook some money to advertise the new albums in the USA, so we're interested in finding out which genres sell the best in the USA.\n",
    "\n",
    "We'll need to write a query to find out which genres sell the most tracks in the USA."
   ]
  },
  {
   "cell_type": "code",
   "execution_count": 25,
   "metadata": {},
   "outputs": [
    {
     "name": "stdout",
     "output_type": "stream",
     "text": [
      " * sqlite:///chinook.db\n",
      "Done.\n"
     ]
    },
    {
     "data": {
      "text/html": [
       "<table>\n",
       "    <thead>\n",
       "        <tr>\n",
       "            <th>genre</th>\n",
       "            <th>quantity_USA</th>\n",
       "            <th>percentage</th>\n",
       "        </tr>\n",
       "    </thead>\n",
       "    <tbody>\n",
       "        <tr>\n",
       "            <td>Rock</td>\n",
       "            <td>561</td>\n",
       "            <td>53.38</td>\n",
       "        </tr>\n",
       "        <tr>\n",
       "            <td>Alternative &amp; Punk</td>\n",
       "            <td>130</td>\n",
       "            <td>12.37</td>\n",
       "        </tr>\n",
       "        <tr>\n",
       "            <td>Metal</td>\n",
       "            <td>124</td>\n",
       "            <td>11.8</td>\n",
       "        </tr>\n",
       "        <tr>\n",
       "            <td>R&amp;B/Soul</td>\n",
       "            <td>53</td>\n",
       "            <td>5.04</td>\n",
       "        </tr>\n",
       "        <tr>\n",
       "            <td>Blues</td>\n",
       "            <td>36</td>\n",
       "            <td>3.43</td>\n",
       "        </tr>\n",
       "        <tr>\n",
       "            <td>Alternative</td>\n",
       "            <td>35</td>\n",
       "            <td>3.33</td>\n",
       "        </tr>\n",
       "        <tr>\n",
       "            <td>Pop</td>\n",
       "            <td>22</td>\n",
       "            <td>2.09</td>\n",
       "        </tr>\n",
       "        <tr>\n",
       "            <td>Latin</td>\n",
       "            <td>22</td>\n",
       "            <td>2.09</td>\n",
       "        </tr>\n",
       "        <tr>\n",
       "            <td>Hip Hop/Rap</td>\n",
       "            <td>20</td>\n",
       "            <td>1.9</td>\n",
       "        </tr>\n",
       "        <tr>\n",
       "            <td>Jazz</td>\n",
       "            <td>14</td>\n",
       "            <td>1.33</td>\n",
       "        </tr>\n",
       "        <tr>\n",
       "            <td>Easy Listening</td>\n",
       "            <td>13</td>\n",
       "            <td>1.24</td>\n",
       "        </tr>\n",
       "        <tr>\n",
       "            <td>Reggae</td>\n",
       "            <td>6</td>\n",
       "            <td>0.57</td>\n",
       "        </tr>\n",
       "        <tr>\n",
       "            <td>Electronica/Dance</td>\n",
       "            <td>5</td>\n",
       "            <td>0.48</td>\n",
       "        </tr>\n",
       "        <tr>\n",
       "            <td>Classical</td>\n",
       "            <td>4</td>\n",
       "            <td>0.38</td>\n",
       "        </tr>\n",
       "        <tr>\n",
       "            <td>Heavy Metal</td>\n",
       "            <td>3</td>\n",
       "            <td>0.29</td>\n",
       "        </tr>\n",
       "        <tr>\n",
       "            <td>Soundtrack</td>\n",
       "            <td>2</td>\n",
       "            <td>0.19</td>\n",
       "        </tr>\n",
       "        <tr>\n",
       "            <td>TV Shows</td>\n",
       "            <td>1</td>\n",
       "            <td>0.1</td>\n",
       "        </tr>\n",
       "    </tbody>\n",
       "</table>"
      ],
      "text/plain": [
       "[('Rock', 561, 53.38),\n",
       " ('Alternative & Punk', 130, 12.37),\n",
       " ('Metal', 124, 11.8),\n",
       " ('R&B/Soul', 53, 5.04),\n",
       " ('Blues', 36, 3.43),\n",
       " ('Alternative', 35, 3.33),\n",
       " ('Pop', 22, 2.09),\n",
       " ('Latin', 22, 2.09),\n",
       " ('Hip Hop/Rap', 20, 1.9),\n",
       " ('Jazz', 14, 1.33),\n",
       " ('Easy Listening', 13, 1.24),\n",
       " ('Reggae', 6, 0.57),\n",
       " ('Electronica/Dance', 5, 0.48),\n",
       " ('Classical', 4, 0.38),\n",
       " ('Heavy Metal', 3, 0.29),\n",
       " ('Soundtrack', 2, 0.19),\n",
       " ('TV Shows', 1, 0.1)]"
      ]
     },
     "execution_count": 25,
     "metadata": {},
     "output_type": "execute_result"
    }
   ],
   "source": [
    "%%sql\n",
    "WITH usa_tracks_sold AS (\n",
    "    SELECT il.* FROM invoice_line il\n",
    "    LEFT JOIN invoice i on il.invoice_id = i.invoice_id\n",
    "    LEFT JOIN customer c on i.customer_id = c.customer_id\n",
    "    WHERE c.country = \"USA\"\n",
    "    )\n",
    "\n",
    "SELECT \n",
    "    g.name AS genre,\n",
    "    SUM(il.quantity) AS quantity_USA,\n",
    "    ROUND(CAST(SUM(il.quantity) AS FLOAT)*100 / (SELECT SUM(quantity) FROM usa_tracks_sold), 2) AS percentage\n",
    "FROM invoice_line il\n",
    "LEFT JOIN track t ON il.track_id = t.track_id\n",
    "LEFT JOIN genre g ON t.genre_id = g.genre_id\n",
    "LEFT JOIN invoice i ON i.invoice_id = il.invoice_id\n",
    "LEFT JOIN customer c ON c.customer_id = i.customer_id\n",
    "WHERE c.country = 'USA'\n",
    "GROUP BY genre\n",
    "ORDER BY quantity_USA DESC;\n"
   ]
  },
  {
   "cell_type": "markdown",
   "metadata": {},
   "source": [
    "Based on our findings regarding performance of genres in the USA, we recommend the new albums by the following artists, according to their national sales performance:\n",
    "\n",
    "- Red Tone (Punk)\n",
    "- Slim Jim Bites (Blues)\n",
    "- Meteor and the Girls (Pop)\n",
    "\n",
    "Rock is the best-selling genre in the USA by far. Unfortunately, we don't have a Rock album in our list.\n",
    "Therefore, we strongly suggest management to be on the lookout for albums in the Rock genre, which accounts for 53% of sales in the USA!"
   ]
  },
  {
   "cell_type": "markdown",
   "metadata": {},
   "source": [
    "### 3.2. Analyzing Employee Sales Performance\n",
    "\n",
    "Each customer for the Chinook store gets assigned to a sales support agent within the company when they first make a purchase. We have been asked to analyze the purchases of customers belonging to each employee to see if any sales support agent is performing either better or worse than the others."
   ]
  },
  {
   "cell_type": "code",
   "execution_count": 44,
   "metadata": {},
   "outputs": [
    {
     "name": "stdout",
     "output_type": "stream",
     "text": [
      " * sqlite:///chinook.db\n",
      "Done.\n"
     ]
    },
    {
     "data": {
      "text/html": [
       "<table>\n",
       "    <thead>\n",
       "        <tr>\n",
       "            <th>employee_id</th>\n",
       "            <th>employee_name</th>\n",
       "            <th>employee_title</th>\n",
       "            <th>hire_date</th>\n",
       "            <th>sales</th>\n",
       "            <th>days_employed</th>\n",
       "            <th>performance</th>\n",
       "        </tr>\n",
       "    </thead>\n",
       "    <tbody>\n",
       "        <tr>\n",
       "            <td>3</td>\n",
       "            <td>Jane Peacock</td>\n",
       "            <td>Sales Support Agent</td>\n",
       "            <td>2017-04-01 00:00:00</td>\n",
       "            <td>1732.0</td>\n",
       "            <td>1369.0</td>\n",
       "            <td>1.26</td>\n",
       "        </tr>\n",
       "        <tr>\n",
       "            <td>4</td>\n",
       "            <td>Margaret Park</td>\n",
       "            <td>Sales Support Agent</td>\n",
       "            <td>2017-05-03 00:00:00</td>\n",
       "            <td>1584.0</td>\n",
       "            <td>1337.0</td>\n",
       "            <td>1.18</td>\n",
       "        </tr>\n",
       "        <tr>\n",
       "            <td>5</td>\n",
       "            <td>Steve Johnson</td>\n",
       "            <td>Sales Support Agent</td>\n",
       "            <td>2017-10-17 00:00:00</td>\n",
       "            <td>1394.0</td>\n",
       "            <td>1170.0</td>\n",
       "            <td>1.19</td>\n",
       "        </tr>\n",
       "    </tbody>\n",
       "</table>"
      ],
      "text/plain": [
       "[(3, 'Jane Peacock', 'Sales Support Agent', '2017-04-01 00:00:00', 1732.0, 1369.0, 1.26),\n",
       " (4, 'Margaret Park', 'Sales Support Agent', '2017-05-03 00:00:00', 1584.0, 1337.0, 1.18),\n",
       " (5, 'Steve Johnson', 'Sales Support Agent', '2017-10-17 00:00:00', 1394.0, 1170.0, 1.19)]"
      ]
     },
     "execution_count": 44,
     "metadata": {},
     "output_type": "execute_result"
    }
   ],
   "source": [
    "%%sql\n",
    "WITH last_invoice_date AS (\n",
    "    SELECT MAX(invoice_date) FROM invoice\n",
    "    )\n",
    "\n",
    "SELECT \n",
    "    e.employee_id,\n",
    "    e.first_name || \" \" || e.last_name AS employee_name,\n",
    "    e.title AS employee_title,\n",
    "    e.hire_date,\n",
    "    ROUND(SUM(i.total), 0) AS sales,\n",
    "    JulianDay((SELECT * FROM last_invoice_date)) - JulianDay(e.hire_date) AS days_employed,\n",
    "    ROUND(SUM(i.total) / ( JulianDay((SELECT * FROM last_invoice_date)) - JulianDay(e.hire_date) ),2) AS 'performance'\n",
    "FROM invoice i\n",
    "LEFT JOIN customer c ON c.customer_id = i.customer_id\n",
    "LEFT JOIN employee e ON e.employee_id = c.support_rep_id\n",
    "GROUP BY e.employee_id\n",
    "ORDER BY sales DESC;\n",
    "    \n",
    "    "
   ]
  },
  {
   "cell_type": "markdown",
   "metadata": {},
   "source": [
    "We may say that Jane is the best performing Sales Support Agent by looking at the **sales** column, **but that'd be an immature statement**. \n",
    "\n",
    "If we look at the **hire_date** column, we can see that Jane has worked for Chinook 1 month longer than Margaret, and 5.5 months longer than Steve. \n",
    "\n",
    "That's why I calculated the days_employed value as:\n",
    "\n",
    "**days_employed = hire_date - date of last invoice in the invoice table**\n",
    "\n",
    "Then:\n",
    "\n",
    "**performance = sales / days_employed**\n",
    "\n",
    "Then... Well...  \n",
    "Jane still happens to be the best performing Sales Support Agent. But hey! At least we can sleep comfortably now :)\n",
    "\n",
    "On average, **Jane brings 0.08 more sales value every day**, compared to other two Sales Support Agents, Margaret and Steve.\n",
    "\n",
    "\n",
    "Also, we can see that performance of Steve and Margaret are almost the same, altough Margaret had 1584 where Steve had 1394 in sales. By going the extra step and calculating the **performance** metric, **we didn't falsely say \"Steve is the worst performer!\"**. Indeed, he performs slightly (but slightly) better."
   ]
  },
  {
   "cell_type": "markdown",
   "metadata": {},
   "source": [
    "### 3.3. Analyzing Sales by Country\n",
    "\n",
    "Our next task is to analyze the sales data for customers from each different country. We have been given guidance to use the country value from the customers table, and ignore the country from the billing address in the invoice table.\n",
    "\n",
    "In particular, we have been directed to calculate data, for each country, on the:\n",
    "\n",
    "- total number of customers\n",
    "- total value of sales\n",
    "- average value of sales per customer\n",
    "- average order value\n",
    "\n",
    "Because there are a number of countries with only one customer, we should group these customers as \"Other\", and we should force the ordering of \"Other\" to last in our analysis."
   ]
  },
  {
   "cell_type": "code",
   "execution_count": 79,
   "metadata": {},
   "outputs": [
    {
     "name": "stdout",
     "output_type": "stream",
     "text": [
      " * sqlite:///chinook.db\n",
      "Done.\n"
     ]
    },
    {
     "data": {
      "text/html": [
       "<table>\n",
       "    <thead>\n",
       "        <tr>\n",
       "            <th>country</th>\n",
       "            <th>customers</th>\n",
       "            <th>total_sales</th>\n",
       "            <th>avg_order_value</th>\n",
       "            <th>avg_sales_per_customer</th>\n",
       "        </tr>\n",
       "    </thead>\n",
       "    <tbody>\n",
       "        <tr>\n",
       "            <td>USA</td>\n",
       "            <td>13</td>\n",
       "            <td>1040.49</td>\n",
       "            <td>7.94</td>\n",
       "            <td>80.04</td>\n",
       "        </tr>\n",
       "        <tr>\n",
       "            <td>Canada</td>\n",
       "            <td>8</td>\n",
       "            <td>535.59</td>\n",
       "            <td>7.05</td>\n",
       "            <td>66.95</td>\n",
       "        </tr>\n",
       "        <tr>\n",
       "            <td>Brazil</td>\n",
       "            <td>5</td>\n",
       "            <td>427.68</td>\n",
       "            <td>7.01</td>\n",
       "            <td>85.54</td>\n",
       "        </tr>\n",
       "        <tr>\n",
       "            <td>France</td>\n",
       "            <td>5</td>\n",
       "            <td>389.07</td>\n",
       "            <td>7.78</td>\n",
       "            <td>77.81</td>\n",
       "        </tr>\n",
       "        <tr>\n",
       "            <td>Germany</td>\n",
       "            <td>4</td>\n",
       "            <td>334.62</td>\n",
       "            <td>8.16</td>\n",
       "            <td>83.66</td>\n",
       "        </tr>\n",
       "        <tr>\n",
       "            <td>Czech Republic</td>\n",
       "            <td>2</td>\n",
       "            <td>273.24</td>\n",
       "            <td>9.11</td>\n",
       "            <td>136.62</td>\n",
       "        </tr>\n",
       "        <tr>\n",
       "            <td>United Kingdom</td>\n",
       "            <td>3</td>\n",
       "            <td>245.52</td>\n",
       "            <td>8.77</td>\n",
       "            <td>81.84</td>\n",
       "        </tr>\n",
       "        <tr>\n",
       "            <td>Portugal</td>\n",
       "            <td>2</td>\n",
       "            <td>185.13</td>\n",
       "            <td>6.38</td>\n",
       "            <td>92.57</td>\n",
       "        </tr>\n",
       "        <tr>\n",
       "            <td>India</td>\n",
       "            <td>2</td>\n",
       "            <td>183.15</td>\n",
       "            <td>8.72</td>\n",
       "            <td>91.58</td>\n",
       "        </tr>\n",
       "        <tr>\n",
       "            <td>Other</td>\n",
       "            <td>15</td>\n",
       "            <td>1094.94</td>\n",
       "            <td>7.45</td>\n",
       "            <td>73.0</td>\n",
       "        </tr>\n",
       "    </tbody>\n",
       "</table>"
      ],
      "text/plain": [
       "[('USA', 13, 1040.49, 7.94, 80.04),\n",
       " ('Canada', 8, 535.59, 7.05, 66.95),\n",
       " ('Brazil', 5, 427.68, 7.01, 85.54),\n",
       " ('France', 5, 389.07, 7.78, 77.81),\n",
       " ('Germany', 4, 334.62, 8.16, 83.66),\n",
       " ('Czech Republic', 2, 273.24, 9.11, 136.62),\n",
       " ('United Kingdom', 3, 245.52, 8.77, 81.84),\n",
       " ('Portugal', 2, 185.13, 6.38, 92.57),\n",
       " ('India', 2, 183.15, 8.72, 91.58),\n",
       " ('Other', 15, 1094.94, 7.45, 73.0)]"
      ]
     },
     "execution_count": 79,
     "metadata": {},
     "output_type": "execute_result"
    }
   ],
   "source": [
    "%%sql\n",
    "WITH \n",
    "\n",
    "customers_per_country AS(\n",
    "    SELECT\n",
    "        c.country as country,\n",
    "        COUNT(c.customer_id) as customers,\n",
    "    \n",
    "        CASE \n",
    "            WHEN COUNT(c.customer_id) = 1 THEN 'Other'\n",
    "            ELSE c.country\n",
    "        END AS country_helper,\n",
    "        \n",
    "        CASE\n",
    "            WHEN COUNT(c.customer_id) = 1 THEN 1\n",
    "            ELSE 0\n",
    "        END AS rank_helper\n",
    "    FROM customer c\n",
    "    GROUP BY country\n",
    "),\n",
    "\n",
    "customer_adjusted AS(\n",
    "    SELECT \n",
    "        c.*,\n",
    "        cpc.country_helper,\n",
    "        cpc.rank_helper\n",
    "    FROM customer c\n",
    "    LEFT JOIN customers_per_country cpc ON cpc.country = c.country\n",
    ")\n",
    "\n",
    "\n",
    "SELECT\n",
    "    cpc.country_helper                                           AS country,\n",
    "    COUNT(DISTINCT c.customer_id)                                AS customers,\n",
    "    ROUND(    SUM(i.total)                                   ,2) AS  total_sales,\n",
    "    ROUND(    SUM(i.total) / COUNT(distinct i.invoice_id)    ,2) AS avg_order_value,\n",
    "    ROUND(    SUM(i.total) / COUNT(distinct c.customer_id)   ,2) AS avg_sales_per_customer\n",
    "    \n",
    "FROM invoice i\n",
    "\n",
    "LEFT JOIN customer c ON c.customer_id = i.customer_id\n",
    "LEFT JOIN customers_per_country cpc ON cpc.country = c.country\n",
    "\n",
    "GROUP BY cpc.country_helper\n",
    "ORDER BY rank_helper, total_sales DESC;"
   ]
  },
  {
   "cell_type": "markdown",
   "metadata": {},
   "source": [
    "### 3.4. Albums vs Individual Tracks\n",
    "\n",
    "The Chinook store is setup in a way that allows customer to make purchases in one of the two ways:\n",
    "\n",
    "- purchase a whole album\n",
    "- purchase a collection of one or more individual tracks.\n",
    "\n",
    "The store does not let customers purchase a whole album, and then add individual tracks to that same purchase (unless they do that by choosing each track manually). When customers purchase albums they are charged the same price as if they had purchased each of those tracks separately.\n",
    "\n",
    "Management are currently considering changing their purchasing strategy to save money. The strategy they are considering is to purchase only the most popular tracks from each album from record companies, instead of purchasing every track from an album.\n",
    "\n",
    "We have been asked to find out what percentage of purchases are individual tracks vs whole albums, so that management can use this data to understand the effect this decision might have on overall revenue.\n",
    "\n",
    "It is very common when you are performing an analysis to have 'edge cases' which prevent you from getting a 100% accurate answer to your question. In this instance, we have two edge cases to consider:\n",
    "\n",
    "- Albums that have only one or two tracks are likely to be purchased by customers as part of a collection of individual tracks.\n",
    "- Customers may decide to manually select every track from an album, and then add a few individual tracks from other albums to their purchase.\n",
    "\n",
    "In the first case, since our analysis is concerned with maximizing revenue we can safely ignore albums consisting of only a few tracks. The company has previously done analysis to confirm that the second case does not happen often, so we can ignore this case also.\n",
    "\n",
    "In order to answer the question, we're going to have to identify whether each invoice has all the tracks from an album. We can do this by getting the list of tracks from an invoice and comparing it to the list of tracks from an album. We can find the album to compare the purchase to by looking up the album that one of the purchased tracks belongs to. It doesn't matter which track we pick, since if it's an album purchase, that album will be the same for all tracks."
   ]
  },
  {
   "cell_type": "code",
   "execution_count": 86,
   "metadata": {
    "scrolled": true
   },
   "outputs": [
    {
     "name": "stdout",
     "output_type": "stream",
     "text": [
      " * sqlite:///chinook.db\n",
      "Done.\n"
     ]
    },
    {
     "data": {
      "text/html": [
       "<table>\n",
       "    <thead>\n",
       "        <tr>\n",
       "            <th>album_or_not</th>\n",
       "            <th>invoices</th>\n",
       "            <th>percentage</th>\n",
       "        </tr>\n",
       "    </thead>\n",
       "    <tbody>\n",
       "        <tr>\n",
       "            <td>no</td>\n",
       "            <td>500</td>\n",
       "            <td>81.43</td>\n",
       "        </tr>\n",
       "        <tr>\n",
       "            <td>yes</td>\n",
       "            <td>114</td>\n",
       "            <td>18.57</td>\n",
       "        </tr>\n",
       "    </tbody>\n",
       "</table>"
      ],
      "text/plain": [
       "[('no', 500, 81.43), ('yes', 114, 18.57)]"
      ]
     },
     "execution_count": 86,
     "metadata": {},
     "output_type": "execute_result"
    }
   ],
   "source": [
    "%%sql\n",
    "WITH \n",
    "invoice_first_track AS (\n",
    "     SELECT\n",
    "         il.invoice_id invoice_id,\n",
    "         MIN(il.track_id) first_track_id\n",
    "     FROM invoice_line il\n",
    "     GROUP BY 1\n",
    ")\n",
    "\n",
    "\n",
    "SELECT \n",
    "    album_or_not,\n",
    "    COUNT(invoice_id) AS invoices,\n",
    "    ROUND( CAST(COUNT(invoice_id) AS FLOAT)*100 / (SELECT COUNT(*) FROM invoice)  ,2) AS percentage\n",
    "FROM (\n",
    "    SELECT\n",
    "        ifs.*,\n",
    "        CASE\n",
    "            WHEN\n",
    "                (SELECT t.track_id FROM track t\n",
    "                 WHERE t.album_id = (SELECT t2.album_id FROM track t2\n",
    "                                     WHERE t2.track_id = ifs.first_track_id\n",
    "                                    )\n",
    "                EXCEPT\n",
    "                 \n",
    "                SELECT il2.track_id FROM invoice_line il2\n",
    "                WHERE il2.invoice_id = ifs.invoice_id\n",
    "                ) IS NULL\n",
    "            \n",
    "            AND\n",
    "                (SELECT il2.track_id FROM invoice_line il2\n",
    "                 WHERE il2.invoice_id = ifs.invoice_id\n",
    "                 \n",
    "                 EXCEPT\n",
    "                 \n",
    "                 SELECT t.track_id FROM track t\n",
    "                 WHERE t.album_id = (SELECT t2.album_id FROM track t2\n",
    "                                     WHERE t2.track_id = ifs.first_track_id\n",
    "                                    )\n",
    "                ) IS NULL\n",
    "            \n",
    "            THEN \"yes\"\n",
    "            ELSE \"no\"\n",
    "        END AS \"album_or_not\"\n",
    "    \n",
    "    FROM invoice_first_track AS ifs\n",
    "    )\n",
    "GROUP BY album_or_not;\n",
    "\n"
   ]
  },
  {
   "cell_type": "markdown",
   "metadata": {},
   "source": [
    "Album sales account for 18.57% of total sales.  \n",
    "About 1 in every 5 purchase is an Album.\n",
    "\n",
    "I think this is a quite significant share in all sales.  \n",
    "It shows that there are customers who value albums as a whole, rather than individual tracks in them.\n",
    "\n",
    "Therefore I'd advice against a strategy of providing only 'select tracks'.  \n",
    "It may result in significant loss in revenue."
   ]
  },
  {
   "cell_type": "markdown",
   "metadata": {},
   "source": [
    "## 4. Extra Questions"
   ]
  },
  {
   "cell_type": "markdown",
   "metadata": {},
   "source": [
    "### Which artist is used in the most playlists?"
   ]
  },
  {
   "cell_type": "code",
   "execution_count": 89,
   "metadata": {},
   "outputs": [
    {
     "name": "stdout",
     "output_type": "stream",
     "text": [
      " * sqlite:///chinook.db\n",
      "Done.\n"
     ]
    },
    {
     "data": {
      "text/html": [
       "<table>\n",
       "    <thead>\n",
       "        <tr>\n",
       "            <th>artist_id</th>\n",
       "            <th>artist_name</th>\n",
       "            <th>playlist_appearance</th>\n",
       "        </tr>\n",
       "    </thead>\n",
       "    <tbody>\n",
       "        <tr>\n",
       "            <td>226</td>\n",
       "            <td>Eugene Ormandy</td>\n",
       "            <td>7</td>\n",
       "        </tr>\n",
       "        <tr>\n",
       "            <td>248</td>\n",
       "            <td>Berliner Philharmoniker &amp; Herbert Von Karajan</td>\n",
       "            <td>6</td>\n",
       "        </tr>\n",
       "        <tr>\n",
       "            <td>247</td>\n",
       "            <td>The King&#x27;s Singers</td>\n",
       "            <td>6</td>\n",
       "        </tr>\n",
       "        <tr>\n",
       "            <td>214</td>\n",
       "            <td>Academy of St. Martin in the Fields &amp; Sir Neville Marriner</td>\n",
       "            <td>6</td>\n",
       "        </tr>\n",
       "        <tr>\n",
       "            <td>208</td>\n",
       "            <td>English Concert &amp; Trevor Pinnock</td>\n",
       "            <td>6</td>\n",
       "        </tr>\n",
       "    </tbody>\n",
       "</table>"
      ],
      "text/plain": [
       "[(226, 'Eugene Ormandy', 7),\n",
       " (248, 'Berliner Philharmoniker & Herbert Von Karajan', 6),\n",
       " (247, \"The King's Singers\", 6),\n",
       " (214, 'Academy of St. Martin in the Fields & Sir Neville Marriner', 6),\n",
       " (208, 'English Concert & Trevor Pinnock', 6)]"
      ]
     },
     "execution_count": 89,
     "metadata": {},
     "output_type": "execute_result"
    }
   ],
   "source": [
    "%%sql\n",
    "SELECT \n",
    "    a.artist_id,\n",
    "    a.name artist_name,\n",
    "    COUNT(DISTINCT p.playlist_id) as playlist_appearance\n",
    "FROM playlist p \n",
    "LEFT JOIN playlist_track pt ON pt.playlist_id = p.playlist_id\n",
    "LEFT JOIN track t ON t.track_id = pt.track_id\n",
    "LEFT JOIN album al ON al.album_id = t.album_id\n",
    "LEFT JOIN artist a ON a.artist_id = al.artist_id\n",
    "GROUP BY a.artist_id\n",
    "ORDER BY playlist_appearance DESC\n",
    "LIMIT 5;\n"
   ]
  },
  {
   "cell_type": "markdown",
   "metadata": {},
   "source": [
    "### How many tracks have been purchased vs not purchased?"
   ]
  },
  {
   "cell_type": "code",
   "execution_count": 99,
   "metadata": {},
   "outputs": [
    {
     "name": "stdout",
     "output_type": "stream",
     "text": [
      " * sqlite:///chinook.db\n",
      "Done.\n"
     ]
    },
    {
     "data": {
      "text/html": [
       "<table>\n",
       "    <thead>\n",
       "        <tr>\n",
       "            <th>purchased</th>\n",
       "            <th>count</th>\n",
       "            <th>percentage</th>\n",
       "        </tr>\n",
       "    </thead>\n",
       "    <tbody>\n",
       "        <tr>\n",
       "            <td>Yes</td>\n",
       "            <td>1806</td>\n",
       "            <td>51.56</td>\n",
       "        </tr>\n",
       "        <tr>\n",
       "            <td>No</td>\n",
       "            <td>1697</td>\n",
       "            <td>48.44</td>\n",
       "        </tr>\n",
       "    </tbody>\n",
       "</table>"
      ],
      "text/plain": [
       "[('Yes', 1806, 51.56), ('No', 1697, 48.44)]"
      ]
     },
     "execution_count": 99,
     "metadata": {},
     "output_type": "execute_result"
    }
   ],
   "source": [
    "%%sql\n",
    "\n",
    "WITH\n",
    "track_purchase AS (\n",
    "    SELECT\n",
    "        t.track_id,\n",
    "        CASE\n",
    "            WHEN t.track_id IN (SELECT il.track_id FROM invoice_line il) THEN \"Yes\"\n",
    "            ELSE \"No\"\n",
    "        END AS purchased\n",
    "    FROM track t\n",
    ")\n",
    "\n",
    "SELECT \n",
    "    purchased,\n",
    "    COUNT(purchased) AS count,\n",
    "    ROUND( CAST(COUNT(purchased) AS FLOAT)*100 / (SELECT COUNT(*) FROM track)  ,2) AS percentage\n",
    "    \n",
    "FROM track_purchase\n",
    "GROUP BY purchased\n",
    "ORDER BY purchased DESC;"
   ]
  },
  {
   "cell_type": "markdown",
   "metadata": {},
   "source": [
    "### Do protected vs non-protected media types have an effect on popularity?"
   ]
  },
  {
   "cell_type": "code",
   "execution_count": 113,
   "metadata": {
    "scrolled": true
   },
   "outputs": [
    {
     "name": "stdout",
     "output_type": "stream",
     "text": [
      " * sqlite:///chinook.db\n",
      "Done.\n"
     ]
    },
    {
     "data": {
      "text/html": [
       "<table>\n",
       "    <thead>\n",
       "        <tr>\n",
       "            <th>all_tracks</th>\n",
       "            <th>count</th>\n",
       "            <th>percentage</th>\n",
       "        </tr>\n",
       "    </thead>\n",
       "    <tbody>\n",
       "        <tr>\n",
       "            <td>Not Protected</td>\n",
       "            <td>3052</td>\n",
       "            <td>87.13</td>\n",
       "        </tr>\n",
       "        <tr>\n",
       "            <td>Protected</td>\n",
       "            <td>451</td>\n",
       "            <td>12.87</td>\n",
       "        </tr>\n",
       "    </tbody>\n",
       "</table>"
      ],
      "text/plain": [
       "[('Not Protected', 3052, 87.13), ('Protected', 451, 12.87)]"
      ]
     },
     "execution_count": 113,
     "metadata": {},
     "output_type": "execute_result"
    }
   ],
   "source": [
    "%%sql\n",
    "-- PROTECTED VS NOT PROTECTED SHARE IN ALL TRACKS\n",
    "\n",
    "WITH protected_or_not AS(\n",
    "    SELECT t.track_id,\n",
    "    CASE\n",
    "        WHEN mt.name LIKE \"%Protected%\" THEN \"Protected\"\n",
    "        ELSE \"Not Protected\"\n",
    "    END AS type\n",
    "    FROM track t\n",
    "    LEFT JOIN media_type mt ON mt.media_type_id = t.media_type_id\n",
    ")\n",
    "\n",
    "SELECT \n",
    "    pon.type AS all_tracks,\n",
    "    COUNT(pon.type) AS count,\n",
    "    ROUND(  CAST(COUNT(pon.type) AS FLOAT)*100 / (SELECT COUNT(*) FROM protected_or_not)  ,2) AS percentage\n",
    "FROM protected_or_not pon\n",
    "GROUP BY all_tracks;"
   ]
  },
  {
   "cell_type": "code",
   "execution_count": 114,
   "metadata": {
    "scrolled": true
   },
   "outputs": [
    {
     "name": "stdout",
     "output_type": "stream",
     "text": [
      " * sqlite:///chinook.db\n",
      "Done.\n"
     ]
    },
    {
     "data": {
      "text/html": [
       "<table>\n",
       "    <thead>\n",
       "        <tr>\n",
       "            <th>sold_tracks</th>\n",
       "            <th>count</th>\n",
       "            <th>percentage</th>\n",
       "        </tr>\n",
       "    </thead>\n",
       "    <tbody>\n",
       "        <tr>\n",
       "            <td>Not Protected</td>\n",
       "            <td>4315</td>\n",
       "            <td>90.71</td>\n",
       "        </tr>\n",
       "        <tr>\n",
       "            <td>Protected</td>\n",
       "            <td>442</td>\n",
       "            <td>9.29</td>\n",
       "        </tr>\n",
       "    </tbody>\n",
       "</table>"
      ],
      "text/plain": [
       "[('Not Protected', 4315, 90.71), ('Protected', 442, 9.29)]"
      ]
     },
     "execution_count": 114,
     "metadata": {},
     "output_type": "execute_result"
    }
   ],
   "source": [
    "%%sql\n",
    "-- PROTECTED VS NOT PROTECTED MEDIA TYPES IN SALES\n",
    "\n",
    "WITH protected_or_not AS(\n",
    "    SELECT t.track_id,\n",
    "    CASE\n",
    "        WHEN mt.name LIKE \"%Protected%\" THEN \"Protected\"\n",
    "        ELSE \"Not Protected\"\n",
    "    END AS type\n",
    "    FROM track t\n",
    "    LEFT JOIN media_type mt ON mt.media_type_id = t.media_type_id\n",
    ")\n",
    "\n",
    "SELECT \n",
    "    pon.type AS sold_tracks,\n",
    "    COUNT(pon.type) AS count,\n",
    "    ROUND(  CAST(COUNT(pon.type) AS FLOAT)*100 / (SELECT COUNT(*) FROM invoice_line)  ,2) AS percentage\n",
    "FROM invoice_line il\n",
    "LEFT JOIN protected_or_not pon ON pon.track_id = il.track_id\n",
    "GROUP BY sold_tracks;    "
   ]
  },
  {
   "cell_type": "markdown",
   "metadata": {},
   "source": [
    "**'Not Protected'** media type has a 87% share in all tracks, but has 90% share in total sales.\n",
    "\n",
    "Results suggest that **'Not Protected'** media files are slightly more popular on the market."
   ]
  }
 ],
 "metadata": {
  "kernelspec": {
   "display_name": "Python 3",
   "language": "python",
   "name": "python3"
  },
  "language_info": {
   "codemirror_mode": {
    "name": "ipython",
    "version": 3
   },
   "file_extension": ".py",
   "mimetype": "text/x-python",
   "name": "python",
   "nbconvert_exporter": "python",
   "pygments_lexer": "ipython3",
   "version": "3.8.5"
  }
 },
 "nbformat": 4,
 "nbformat_minor": 4
}
